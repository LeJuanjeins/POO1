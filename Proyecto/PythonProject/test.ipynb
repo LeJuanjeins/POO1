{
 "cells": [
  {
   "cell_type": "code",
   "execution_count": 1,
   "metadata": {},
   "outputs": [
    {
     "data": {
      "text/plain": [
       "'6.25.1'"
      ]
     },
     "execution_count": 1,
     "metadata": {},
     "output_type": "execute_result"
    }
   ],
   "source": [
    "import ipykernel\n",
    "ipykernel.__version__"
   ]
  },
  {
   "cell_type": "code",
   "execution_count": 2,
   "metadata": {},
   "outputs": [
    {
     "data": {
      "text/plain": [
       "'3.10.11 (tags/v3.10.11:7d4cc5a, Apr  5 2023, 00:38:17) [MSC v.1929 64 bit (AMD64)]'"
      ]
     },
     "execution_count": 2,
     "metadata": {},
     "output_type": "execute_result"
    }
   ],
   "source": [
    "import sys\n",
    "sys.version\t"
   ]
  },
  {
   "cell_type": "code",
   "execution_count": 3,
   "metadata": {},
   "outputs": [],
   "source": [
    "from conexion import Conexion\n",
    "\n",
    "bd_argument = \"Color\"\n",
    "cx = Conexion(bd=bd_argument)"
   ]
  },
  {
   "cell_type": "code",
   "execution_count": 1,
   "metadata": {},
   "outputs": [
    {
     "name": "stdout",
     "output_type": "stream",
     "text": [
      "SE CONECTÓ A BD Color\n",
      "{'_id': ObjectId('64d136cb0a52c8588520727d'), 'colors': 'gold', 'multiplierBand': 0.1, 'tolerance': '+/- 5'}\n"
     ]
    }
   ],
   "source": [
    "from conexion import Conexion\n",
    "bd_argument = \"Color\"\n",
    "coll_argument = \"Color\"\n",
    "cx = Conexion(bd=bd_argument, coll=coll_argument)\n",
    "query = \"gold\"\n",
    "\n",
    "cx.conectar()\n",
    "cursor = cx.prepareStatement(coll_argument, query)\n"
   ]
  },
  {
   "cell_type": "code",
   "execution_count": 1,
   "metadata": {},
   "outputs": [
    {
     "name": "stdout",
     "output_type": "stream",
     "text": [
      "SE CONECTÓ A BD Color\n",
      "El valor del campo colorValue es: 2\n"
     ]
    }
   ],
   "source": [
    "from conexion import Conexion\n",
    "cx = Conexion('Color', 'Color')\n",
    "cx.conectar()\n",
    "color_value = cx.get_color_value('Color', 'red')\n",
    "print(f'El valor del campo colorValue es: {color_value}')\n",
    "\n"
   ]
  },
  {
   "cell_type": "code",
   "execution_count": 1,
   "metadata": {},
   "outputs": [
    {
     "name": "stdout",
     "output_type": "stream",
     "text": [
      "SE CONECTÓ A BD Color\n",
      "El valor del campo multiplierBand es: 1e^2\n"
     ]
    }
   ],
   "source": [
    "from conexion import Conexion\n",
    "cx = Conexion('Color', 'Color')\n",
    "cx.conectar()\n",
    "multiplier_band = cx.get_multiplier_band('Color', 'red')\n",
    "print(f'El valor del campo multiplierBand es: {multiplier_band}')"
   ]
  },
  {
   "cell_type": "code",
   "execution_count": 2,
   "metadata": {},
   "outputs": [
    {
     "name": "stdout",
     "output_type": "stream",
     "text": [
      "SE CONECTÓ A BD Color\n",
      "El valor del campo tolerance es: +/- 5\n"
     ]
    }
   ],
   "source": [
    "from conexion import Conexion\n",
    "cx = Conexion('Color', 'Color')\n",
    "cx.conectar()\n",
    "tolerance = cx.get_tolerance('Color', 'gold')\n",
    "print(f'El valor del campo tolerance es: {tolerance}')"
   ]
  },
  {
   "cell_type": "code",
   "execution_count": 3,
   "metadata": {},
   "outputs": [
    {
     "name": "stdout",
     "output_type": "stream",
     "text": [
      "SE CONECTÓ A BD Color\n",
      "El valor del campo colorValue es: 2\n",
      "El valor del campo multiplierBand es: 100\n",
      "El valor del campo tolerance es: +/- 5\n"
     ]
    }
   ],
   "source": [
    "from conexion import Conexion\n",
    "cx = Conexion('Color', 'Color')\n",
    "cx.conectar()\n",
    "color_value = cx.get_color_value('Color', 'red')\n",
    "print(f'El valor del campo colorValue es: {color_value}')\n",
    "multiplier_band = cx.get_multiplier_band('Color', 'red')\n",
    "print(f'El valor del campo multiplierBand es: {multiplier_band}')\n",
    "tolerance = cx.get_tolerance('Color', 'gold')\n",
    "print(f'El valor del campo tolerance es: {tolerance}')"
   ]
  },
  {
   "cell_type": "code",
   "execution_count": 1,
   "metadata": {},
   "outputs": [
    {
     "name": "stdout",
     "output_type": "stream",
     "text": [
      "SE CONECTÓ A BD Color\n"
     ]
    }
   ],
   "source": [
    "from conexion import Conexion\n",
    "cx = Conexion('Color', 'Users')\n",
    "cx.conectar()\n",
    "user = cx.get_contact('User','Juan','Sanchez','jsanchez@gmail.com')"
   ]
  }
 ],
 "metadata": {
  "kernelspec": {
   "display_name": "Python 3",
   "language": "python",
   "name": "python3"
  },
  "language_info": {
   "codemirror_mode": {
    "name": "ipython",
    "version": 3
   },
   "file_extension": ".py",
   "mimetype": "text/x-python",
   "name": "python",
   "nbconvert_exporter": "python",
   "pygments_lexer": "ipython3",
   "version": "3.10.11"
  },
  "orig_nbformat": 4
 },
 "nbformat": 4,
 "nbformat_minor": 2
}
